{
 "cells": [
  {
   "cell_type": "markdown",
   "metadata": {},
   "source": [
    "### Ejercicio 8\n",
    "\n",
    "Escriba un programa que solicite que se ingrese una palabra o frase y permita\n",
    "identificar si la misma es un [Heterograma](https://es.abcdef.wiki/wiki/Isogram) (tenga en cuenta que el contenido del enlace es una traducción del inglés por lo cual las palabras que nombra no son heterogramas en español). Un Heterograma es una palabra o frase que no tiene ninguna letra repetida entre sus caracteres.\n",
    "\n",
    "Tener en cuenta:\n",
    "\n",
    "- Lo que no se puede repetir en la frase son sólo aquellos caracteres que sean\n",
    "letras.\n",
    "\n",
    "- No se distingue entre mayúsculas y minúsculas, es decir si en la frase o palabra\n",
    "tenemos la letra \"T\" y la letra \"t\" la misma NO será un Hererograma.\n",
    "\n",
    "- Para simplificar el ejercicio vamos a tomar como que las letras con tilde y sin tilde\n",
    "son distintas. Ya que Python las diferencia:\n",
    "\n",
    "Ejemplos:\n",
    "\n",
    "| Entrada       | ¿Heterograma? |\n",
    "| ------------- | ------------- |\n",
    "| cruzamiento   | sí            |\n",
    "| centrifugados |  sí           |\n",
    "| portón        | sí            |\n",
    "| casa          | no            |\n",
    "| día de sol    | no            |\n",
    "| con diez uñas | sí            |\n",
    "| no-se-duplica | sí            |\n",
    "\n",
    "\n"
   ]
  },
  {
   "cell_type": "markdown",
   "metadata": {},
   "source": [
    "Esta función elimina de la cadena de caracteres recibida como parámetro todos los caracteres no letras"
   ]
  },
  {
   "cell_type": "code",
   "execution_count": 35,
   "metadata": {},
   "outputs": [],
   "source": [
    "import string\n",
    "\n",
    "def toLetter (char):\n",
    "    letters = string.ascii_letters\n",
    "    for car in char:\n",
    "        if car not in letters:\n",
    "            car.replace(char,\"\")\n",
    "    return char"
   ]
  },
  {
   "cell_type": "markdown",
   "metadata": {},
   "source": [
    "Esta función cuenta las ocurrencias de un caracter sobre la cadena, si hay mas de una ocurrencia retorna False, sino retorna True"
   ]
  },
  {
   "cell_type": "code",
   "execution_count": 36,
   "metadata": {},
   "outputs": [],
   "source": [
    "def isHeterogram (prhase):\n",
    "    for char in prhase:\n",
    "        if(prhase.count(char)>1):\n",
    "            return False\n",
    "    return True"
   ]
  },
  {
   "cell_type": "markdown",
   "metadata": {},
   "source": [
    "Solicito el ingreso de una palabra o frase, elimino caracteres no letras de la cadena y verifico si es o no heterograma, si es, imprimo que es un heterograma, sino imprimo que no lo es "
   ]
  },
  {
   "cell_type": "code",
   "execution_count": null,
   "metadata": {},
   "outputs": [],
   "source": [
    "\n",
    "char = str(input(\"ingrese una palabra o frase:\")).lower()\n",
    "prhase = toLetter(char)\n",
    "\n",
    "if(isHeterogram(prhase)):\n",
    "    print(\"La palabra/frase es un heterograma\")\n",
    "else:\n",
    "    print(\"La palabra/frase no es un heterograma\")\n",
    "        "
   ]
  }
 ],
 "metadata": {
  "kernelspec": {
   "display_name": "venv",
   "language": "python",
   "name": "python3"
  },
  "language_info": {
   "codemirror_mode": {
    "name": "ipython",
    "version": 3
   },
   "file_extension": ".py",
   "mimetype": "text/x-python",
   "name": "python",
   "nbconvert_exporter": "python",
   "pygments_lexer": "ipython3",
   "version": "3.11.7"
  }
 },
 "nbformat": 4,
 "nbformat_minor": 2
}
