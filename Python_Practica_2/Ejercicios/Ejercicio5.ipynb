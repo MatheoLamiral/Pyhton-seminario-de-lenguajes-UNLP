{
 "cells": [
  {
   "cell_type": "markdown",
   "metadata": {},
   "source": [
    "### Ejercicio 5"
   ]
  },
  {
   "cell_type": "markdown",
   "metadata": {},
   "source": [
    "Para la aceptación de un artículo en un congreso se definen las siguientes\n",
    "especificaciones que deben cumplir y recomendaciones de escritura:\n",
    "\n",
    "- __título__:\n",
    "\n",
    "  - 10 palabras como máximo\n",
    "  \n",
    "- cada oración del __resumen__:\n",
    "\n",
    "  - hasta 12 palabras: fácil de leer\n",
    "  - entre 13-17 palabras: aceptable para leer\n",
    "  - entre 18-25 palabras: difícil de leer\n",
    "  - mas de 25 palabras: muy difícil\n"
   ]
  },
  {
   "cell_type": "markdown",
   "metadata": {},
   "source": [
    "Es importante destacar que los números no se consideran palabras al momento del\n",
    "análisis por su facilidad de lectura.\n",
    "\n",
    "Dado un artículo en formato string, defina si cumple las especificaciones del título y\n",
    "cuántas oraciones tiene de cada categoría. El formato estándar en que recibe el string\n",
    "tiene la siguiente forma:"
   ]
  },
  {
   "cell_type": "code",
   "execution_count": 26,
   "metadata": {},
   "outputs": [],
   "source": [
    "article = \"\"\" título: Experiences in Developing a Distributed Agentbased Modeling Toolkit with Python Version 3\n",
    "resumen: Distributed agent-based modeling (ABM) on high-performance computing resources provides the promise of capturing unprecedented details of large-scale complex systems. However, the specialized knowledge required for developing such ABMs creates barriers to wider adoption and utilization. Here we present our experiences in developing an initial implementation of Repast4Py, a Python-based distributed ABM toolkit. We build on our experiences in developing ABM toolkits, including Repast for High Performance Computing (Repast HPC), to identify the key elements of a useful distributed ABM toolkit. We leverage the Numba, NumPy, and PyTorch packages and the Python C-API to create a scalable modeling system that can exploit the largest HPC resources and emerging computing architectures. \"\"\"\n"
   ]
  },
  {
   "cell_type": "markdown",
   "metadata": {},
   "source": [
    "En este ejemplo se debe informar:\n",
    "- título: not ok\n",
    "- Cantidad de oraciones fáciles de leer: 1, aceptables para leer: 2, dificil de leer: 1,\n",
    "  muy difícil de leer: 2"
   ]
  },
  {
   "cell_type": "code",
   "execution_count": 27,
   "metadata": {},
   "outputs": [
    {
     "name": "stdout",
     "output_type": "stream",
     "text": [
      " título: Experiences in Developing a Distributed Agentbased Modeling Toolkit with Python Version \n",
      "resumen: Distributed agent-based modeling (ABM) on high-performance computing resources provides the promise of capturing unprecedented details of large-scale complex systems. However, the specialized knowledge required for developing such ABMs creates barriers to wider adoption and utilization. Here we present our experiences in developing an initial implementation of RepastPy, a Python-based distributed ABM toolkit. We build on our experiences in developing ABM toolkits, including Repast for High Performance Computing (Repast HPC), to identify the key elements of a useful distributed ABM toolkit. We leverage the Numba, NumPy, and PyTorch packages and the Python C-API to create a scalable modeling system that can exploit the largest HPC resources and emerging computing architectures. \n",
      "titulo: not ok\n",
      "Dificultad de lectura de las oraciones del resumen:\n",
      "{'fáciles de leer': 1, 'aceptables para leer': 2, 'dificil de leer': 1, 'muy dificil de leer': 2}\n"
     ]
    }
   ],
   "source": [
    "import string\n",
    "digit=string.digits\n",
    "\n",
    "for elem in digit:\n",
    "    article=article.replace(elem,\"\")\n",
    "\n",
    "article = article.split(\"\\n\")\n",
    "title = article[0][9:].split()\n",
    "resume = article[1][9:].split(\".\")\n",
    "\n",
    "if(len(title)<=10):\n",
    "    print(\"titulo: ok\")\n",
    "else:\n",
    "    print(\"titulo: not ok\")\n",
    "\n",
    "dif = {\"fáciles de leer\":0,\n",
    "       \"aceptables para leer\":0,\n",
    "       \"dificil de leer\":0,\n",
    "       \"muy dificil de leer\":0}\n",
    "  \n",
    "for elem in resume:\n",
    "    length = len(elem.split())\n",
    "    if length<=12:\n",
    "        dif[\"fáciles de leer\"]+=1\n",
    "    elif length in range(13,18):\n",
    "        dif[\"aceptables para leer\"]+=1\n",
    "    elif length in range(18,26):\n",
    "        dif[\"dificil de leer\"]+=1\n",
    "    else:\n",
    "        dif[\"muy dificil de leer\"]+=1\n",
    "        \n",
    "print(f\"Dificultad de lectura de las oraciones del resumen:\\n{dif}\")\n",
    "        \n",
    "\n",
    "\n"
   ]
  }
 ],
 "metadata": {
  "kernelspec": {
   "display_name": "venv",
   "language": "python",
   "name": "python3"
  },
  "language_info": {
   "codemirror_mode": {
    "name": "ipython",
    "version": 3
   },
   "file_extension": ".py",
   "mimetype": "text/x-python",
   "name": "python",
   "nbconvert_exporter": "python",
   "pygments_lexer": "ipython3",
   "version": "3.11.7"
  }
 },
 "nbformat": 4,
 "nbformat_minor": 2
}
