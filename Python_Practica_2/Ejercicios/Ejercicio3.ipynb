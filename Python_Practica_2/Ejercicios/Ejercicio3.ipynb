{
 "cells": [
  {
   "cell_type": "markdown",
   "metadata": {},
   "source": [
    "### Ejercicio 3"
   ]
  },
  {
   "cell_type": "markdown",
   "metadata": {},
   "source": [
    "Dado el siguiente texto guardado en la varible jupyter_info, solicite por teclado una\n",
    "letra e imprima las palabras que contengan dicha letra. En caso que no se haya\n",
    "ingresado un letra, indique el error. \n",
    "\n",
    "Ver: módulo string\n",
    "\n",
    "jupyter_info = \"\"\" JupyterLab is a web-based interactive development\n",
    "environment for Jupyter notebooks, code, and data. JupyterLab is\n",
    "flexible: configure and arrange the user interface to support a wide\n",
    "range of workflows in data science, scientific computing, and machine\n",
    "learning. JupyterLab is extensible and modular: write plugins that add\n",
    "new components and integrate with existing ones. \"\"\"\n"
   ]
  },
  {
   "cell_type": "code",
   "execution_count": 3,
   "metadata": {},
   "outputs": [
    {
     "name": "stdout",
     "output_type": "stream",
     "text": [
      "notebooks,\n",
      "workflows\n"
     ]
    }
   ],
   "source": [
    "import string\n",
    "\n",
    "jupyter_info = \"\"\" JupyterLab is a web-based interactive development\n",
    "environment for Jupyter notebooks, code, and data. JupyterLab is\n",
    "flexible: configure and arrange the user interface to support a wide\n",
    "range of workflows in data science, scientific computing, and machine\n",
    "learning. JupyterLab is extensible and modular: write plugins that add\n",
    "new components and integrate with existing ones. \"\"\"\n",
    "\n",
    "range = string.ascii_letters\n",
    "\n",
    "while True: \n",
    "    letter=input(\"ingrese una letra por teclado: \")\n",
    "\n",
    "    if(letter not in range):\n",
    "        print(\"No ingresaste una letra!\")\n",
    "        continue\n",
    "    \n",
    "    break\n",
    "\n",
    "jupyter_info=jupyter_info.split()\n",
    "\n",
    "for elem in jupyter_info:\n",
    "    if(letter in elem):\n",
    "        print (elem)\n"
   ]
  }
 ],
 "metadata": {
  "kernelspec": {
   "display_name": "venv",
   "language": "python",
   "name": "python3"
  },
  "language_info": {
   "codemirror_mode": {
    "name": "ipython",
    "version": 3
   },
   "file_extension": ".py",
   "mimetype": "text/x-python",
   "name": "python",
   "nbconvert_exporter": "python",
   "pygments_lexer": "ipython3",
   "version": "3.11.7"
  }
 },
 "nbformat": 4,
 "nbformat_minor": 2
}
