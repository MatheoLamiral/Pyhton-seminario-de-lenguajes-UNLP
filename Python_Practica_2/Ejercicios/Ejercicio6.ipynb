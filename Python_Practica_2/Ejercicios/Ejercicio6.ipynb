{
 "cells": [
  {
   "cell_type": "markdown",
   "metadata": {},
   "source": [
    "### Ejercicio 6\n",
    "\n",
    "Dada una frase y un string ingresados por teclado (en ese orden), genere una lista de\n",
    "palabras, y sobre ella, informe la cantidad de palabras en las que se encuentra el\n",
    "string. No distingir entre mayúsculas y minúsculas\n",
    "\n",
    "__Ejemplo 1__:\n",
    "- Para la frase: \"Tres tristes tigres, tragaban trigo en un trigal, en tres tristes\n",
    "  trastos, tragaban trigo tres tristes tigres.\"\n",
    "- Palabra: \"tres\"\n",
    "- Resultado: 3\n",
    "\n",
    "__Ejemplo 2__:\n",
    "- Para la frase: \"Tres tristes tigres, tragaban trigo en un trigal, en tres tristes\n",
    "  trastos, tragaban trigo tres tristes tigres.\"\n",
    "- Palabra: \"tigres\"\n",
    "- Resultado: 2\n",
    "\n",
    "__Ejemplo 3__:\n",
    "- Para la frase: \"Tres tristes tigres, tragaban trigo en un trigal, en tres tristes\n",
    "  trastos, tragaban trigo tres tristes tigres.\"\n",
    "- Palabra: \"TRISTES\"\n",
    "- Resultado: 3"
   ]
  },
  {
   "cell_type": "code",
   "execution_count": 3,
   "metadata": {},
   "outputs": [
    {
     "name": "stdout",
     "output_type": "stream",
     "text": [
      "2\n"
     ]
    }
   ],
   "source": [
    "phrase=input(\"ingrese una frase: \").lower()\n",
    "word=input(\"ingrese una palabra: \").lower()\n",
    "\n",
    "phrase=phrase.split()\n",
    "\n",
    "aux=0\n",
    "for elem in phrase:\n",
    "    if(word in elem):\n",
    "        aux+=1\n",
    "print(aux)\n",
    "\n",
    "#print(phrase.count(word))"
   ]
  }
 ],
 "metadata": {
  "kernelspec": {
   "display_name": "venv",
   "language": "python",
   "name": "python3"
  },
  "language_info": {
   "codemirror_mode": {
    "name": "ipython",
    "version": 3
   },
   "file_extension": ".py",
   "mimetype": "text/x-python",
   "name": "python",
   "nbconvert_exporter": "python",
   "pygments_lexer": "ipython3",
   "version": "3.11.7"
  }
 },
 "nbformat": 4,
 "nbformat_minor": 2
}
