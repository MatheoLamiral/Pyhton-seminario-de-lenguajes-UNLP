{
 "cells": [
  {
   "cell_type": "markdown",
   "metadata": {},
   "source": [
    "### Ejercicio 7\n",
    "\n",
    "Dada una frase contar mayúsculas, minúsculas, caracteres no letras y la cantidad de\n",
    "palabras sin distinguir entre mayúsculas y minúsculas"
   ]
  },
  {
   "cell_type": "code",
   "execution_count": 13,
   "metadata": {},
   "outputs": [],
   "source": [
    "text = \"\"\" La brecha salarial alcanzó el 27,7%: las mujeres ocupadas\n",
    "debieron trabajar 8 días y 10 horas más que los varones ocupados para\n",
    "ganar lo mismo que ellos en un mes. \"\"\""
   ]
  },
  {
   "cell_type": "markdown",
   "metadata": {},
   "source": [
    "- Resolución con diccionario y for:"
   ]
  },
  {
   "cell_type": "code",
   "execution_count": null,
   "metadata": {},
   "outputs": [],
   "source": [
    "import string\n",
    "\n",
    "may=string.ascii_uppercase\n",
    "min=string.ascii_lowercase\n",
    "\n",
    "#Convierto el texto en lista antes de modificar la cadena original\n",
    "text_list = text.split()\n",
    "\n",
    "#Elimino los espacios y los saltos de linea del texto original\n",
    "text = text.replace(\" \",\"\").replace(\"\\n\",\"\")\n",
    "#Reemplazo todas las letras con acento por la misma sin acento para que no cuenten como caracter especial (no contemplo mayúsculas)\n",
    "text = text.replace(\"á\",\"a\").replace(\"é\",\"e\").replace(\"í\",\"i\").replace(\"ó\",\"o\").replace(\"ú\",\"u\")\n",
    "\n",
    "dic={\"cantidad de mayusculas\":0,\n",
    "     \"cantidad de minusculas\":0,\n",
    "     \"cantidad de caracteres no letras\":0,\n",
    "     \"cantidad de palabras\":0}\n",
    "\n",
    "for word in text:\n",
    "    if word in may:\n",
    "        dic[\"cantidad de mayusculas\"]+=1\n",
    "    elif word in min:\n",
    "        dic[\"cantidad de minusculas\"]+=1\n",
    "    else:\n",
    "        dic['cantidad de caracteres no letras']+=1\n",
    "\n",
    "dic[\"cantidad de palabras\"]=len(text_list)\n",
    "\n",
    "print(dic)\n"
   ]
  },
  {
   "cell_type": "markdown",
   "metadata": {},
   "source": [
    "- Vuelvo a cargar el text para que ambos codigos funcionen por separado\n"
   ]
  },
  {
   "cell_type": "code",
   "execution_count": 15,
   "metadata": {},
   "outputs": [],
   "source": [
    "text = \"\"\" La brecha salarial alcanzó el 27,7%: las mujeres ocupadas\n",
    "debieron trabajar 8 días y 10 horas más que los varones ocupados para\n",
    "ganar lo mismo que ellos en un mes. \"\"\""
   ]
  },
  {
   "cell_type": "markdown",
   "metadata": {},
   "source": [
    "- Resolución con comprensión de listas:"
   ]
  },
  {
   "cell_type": "code",
   "execution_count": null,
   "metadata": {},
   "outputs": [],
   "source": [
    "import string\n",
    "\n",
    "may=string.ascii_uppercase\n",
    "min=string.ascii_lowercase\n",
    "\n",
    "#Convierto el texto en lista antes de modificar la cadena original\n",
    "text_list = text.split()\n",
    "\n",
    "#Elimino los espacios y los saltos de linea del texto original\n",
    "text = text.replace(\" \",\"\").replace(\"\\n\",\"\")\n",
    "#Reemplazo todas las letras con acento por la misma sin acento para que no cuenten como caracter especial (no contemplo mayúsculas)\n",
    "text = text.replace(\"á\",\"a\").replace(\"é\",\"e\").replace(\"í\",\"i\").replace(\"ó\",\"o\").replace(\"ú\",\"u\")\n",
    "\n",
    "minus = [char for char in text if char in min] \n",
    "mayus = [char for char in text if char in may]\n",
    "not_letter = [char for char in text if char not in (may+min)]\n",
    "\n",
    "print(f'cantidad de letras mayúsculas: {len(mayus)}\\ncantidad de letras minúsculas: {len(minus)}\\ncantidad de caracteres no letras: {len(not_letter)}\\ncantidad de palabras: {len(text_list)}')\n"
   ]
  }
 ],
 "metadata": {
  "kernelspec": {
   "display_name": "venv",
   "language": "python",
   "name": "python3"
  },
  "language_info": {
   "codemirror_mode": {
    "name": "ipython",
    "version": 3
   },
   "file_extension": ".py",
   "mimetype": "text/x-python",
   "name": "python",
   "nbconvert_exporter": "python",
   "pygments_lexer": "ipython3",
   "version": "3.11.7"
  }
 },
 "nbformat": 4,
 "nbformat_minor": 2
}
