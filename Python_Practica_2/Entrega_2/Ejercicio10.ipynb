{
 "cells": [
  {
   "cell_type": "markdown",
   "metadata": {},
   "source": [
    "## Ejercicio 10 (Entrega)\n",
    "\n",
    "Un club de hockey posee las estadísticas de todxs sus jugadorxs de la última temporada jugada del torneo de hockey mixto. Poseen una lista con los nombres, otra\n",
    "con los goles a favor, otra con los goles evitados y la última con las asistencias realizadas. El club está por otorgar los premios de cierre de temporada y necesita:\n",
    "\n",
    "1. Generar una estructura con todas las estadísticas asociadas a cada jugador o jugadora.\n",
    "2. Conocer el nombre y la cantidad de goles del goleador o goleadora.\n",
    "3. Conocer el nombre del jugador o jugadora más influyente, esto se consigue sumando goles a favor, goles evitados y cantidad de asistencias. La particularidad es que los goles a favor, evitados y las asistencias NO valen lo mismo (es un promedio ponderado):\n",
    "\n",
    "    |              |valor|\n",
    "    |--------------|-----|\n",
    "    |goles a favor | 1.5 |\n",
    "    |goles evitados|1.25 |\n",
    "    |asistencias   |1    |\n",
    "\n",
    "4. Conocer el promedio de goles por partido del equipo en general. Dato: Se jugaron 25 partidos en la temporada.\n",
    "5. Conocer el promedio de goles por partido del goleador o goleadora. Dato: Se jugaron 25 partidos en la temporada.\n",
    "\n",
    "### __Nota:__\n",
    "\n",
    "- Las 4 estructuras están ordenadas de forma que los elementos en la misma\n",
    "\n",
    "- posición corresponden a un mismo jugador o jugadora.\n",
    "Realizar funciones con cada ítem"
   ]
  },
  {
   "cell_type": "code",
   "execution_count": 1,
   "metadata": {},
   "outputs": [
    {
     "name": "stdout",
     "output_type": "stream",
     "text": [
      "[{'name': 'Agustin', 'goals': 0, 'goals_avoied': 0, 'assists': 0}, {'name': 'Yanina', 'goals': 10, 'goals_avoied': 2, 'assists': 5}, {'name': 'Andrés', 'goals': 4, 'goals_avoied': 0, 'assists': 1}, {'name': 'Ariadna', 'goals': 0, 'goals_avoied': 0, 'assists': 0}, {'name': 'Bautista', 'goals': 5, 'goals_avoied': 5, 'assists': 5}, {'name': 'CAROLINA', 'goals': 14, 'goals_avoied': 2, 'assists': 2}, {'name': 'CESAR', 'goals': 0, 'goals_avoied': 0, 'assists': 0}, {'name': 'David', 'goals': 0, 'goals_avoied': 0, 'assists': 0}, {'name': 'Diego', 'goals': 7, 'goals_avoied': 1, 'assists': 1}, {'name': 'Dolores', 'goals': 2, 'goals_avoied': 2, 'assists': 2}, {'name': 'DYLAN', 'goals': 1, 'goals_avoied': 0, 'assists': 1}, {'name': 'ELIANA', 'goals': 1, 'goals_avoied': 5, 'assists': 5}, {'name': 'Emanuel', 'goals': 1, 'goals_avoied': 5, 'assists': 5}, {'name': 'Fabián', 'goals': 5, 'goals_avoied': 0, 'assists': 0}, {'name': 'Noelia', 'goals': 6, 'goals_avoied': 1, 'assists': 1}, {'name': 'Francsica', 'goals': 1, 'goals_avoied': 0, 'assists': 0}, {'name': 'FEDERICO', 'goals': 1, 'goals_avoied': 2, 'assists': 2}, {'name': 'Fernanda', 'goals': 2, 'goals_avoied': 3, 'assists': 3}, {'name': 'GONZALO', 'goals': 0, 'goals_avoied': 0, 'assists': 1}, {'name': 'Nancy', 'goals': 11, 'goals_avoied': 0, 'assists': 0}]\n",
      "El goleador/goleadora es CAROLINA con 14 goles\n",
      "El jugador/jugadora mas influyente es CAROLINA\n",
      "El promedio de goles por partido del equipo en general es 2.84\n",
      "El promedio de goles por partdio del goleador/goleadora es 0.56\n"
     ]
    }
   ],
   "source": [
    "from team_process import team_and_players\n",
    "\n",
    "names = [\"Agustin\",\"Yanina\", \"Andrés\", \"Ariadna\", \"Bautista\", \"CAROLINA\", \"CESAR\", \"David\", \"Diego\", \"Dolores\", \"DYLAN\", \"ELIANA\", \"Emanuel\", \"Fabián\", \"Noelia\", \"Francsica\", \"FEDERICO\", \"Fernanda\", \"GONZALO\", \"Nancy\"]\n",
    "goals = [0, 10, 4, 0, 5, 14, 0, 0, 7, 2, 1, 1, 1, 5, 6, 1, 1, 2, 0, 11]\n",
    "goals_avoided = [0, 2, 0, 0, 5, 2, 0, 0, 1, 2, 0, 5, 5, 0, 1, 0, 2, 3, 0, 0]\n",
    "assists = [0, 5, 1, 0, 5, 2, 0, 0, 1, 2, 1, 5, 5, 0, 1, 0, 2, 3, 1, 0]\n",
    "\n",
    "structure = team_and_players.create_Structure(names,goals,goals_avoided,assists)\n",
    "print(structure)\n",
    "scorer = team_and_players.max_scorer(structure)\n",
    "print(f'El goleador/goleadora es {scorer[\"name\"]} con {scorer[\"goals\"]} goles')\n",
    "print(f'El jugador/jugadora mas influyente es {team_and_players.most_influential(structure)}')\n",
    "print(f'El promedio de goles por partido del equipo en general es {team_and_players.total_goals_average(structure)}')\n",
    "print(f'El promedio de goles por partdio del goleador/goleadora es {team_and_players.scorer_goals_average(scorer[\"goals\"])}')\n",
    "\n"
   ]
  }
 ],
 "metadata": {
  "kernelspec": {
   "display_name": "venv",
   "language": "python",
   "name": "python3"
  },
  "language_info": {
   "codemirror_mode": {
    "name": "ipython",
    "version": 3
   },
   "file_extension": ".py",
   "mimetype": "text/x-python",
   "name": "python",
   "nbconvert_exporter": "python",
   "pygments_lexer": "ipython3",
   "version": "3.11.7"
  }
 },
 "nbformat": 4,
 "nbformat_minor": 2
}
